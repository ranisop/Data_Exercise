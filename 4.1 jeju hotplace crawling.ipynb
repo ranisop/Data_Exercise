{
 "cells": [
  {
   "cell_type": "markdown",
   "metadata": {},
   "source": [
    "### 4.1 jeju hotplace crawling"
   ]
  },
  {
   "cell_type": "markdown",
   "metadata": {},
   "source": [
    "> url 함수 만들기"
   ]
  },
  {
   "cell_type": "code",
   "execution_count": 55,
   "metadata": {},
   "outputs": [],
   "source": [
    "# 인스타그램의 검색 결과 url을 만드는 함수\n",
    "def insta_searching(word):\n",
    "    url = 'https://www.instagram.com/explore/tags/' + word\n",
    "    return url"
   ]
  },
  {
   "cell_type": "code",
   "execution_count": 56,
   "metadata": {},
   "outputs": [],
   "source": [
    "# selenium으로 접속 - 1\n",
    "from selenium import webdriver\n",
    "\n",
    "driver = webdriver.Chrome('./chromedriver')"
   ]
  },
  {
   "cell_type": "code",
   "execution_count": 57,
   "metadata": {},
   "outputs": [],
   "source": [
    "# selenium으로 접속 - 2\n",
    "import time\n",
    "\n",
    "driver.get('https://www.instagram.com')\n",
    "time.sleep(2)"
   ]
  },
  {
   "cell_type": "markdown",
   "metadata": {},
   "source": [
    "* 인스타계정을 입력해서 자동 로그인하거나, 웹창에 직접 입력"
   ]
  },
  {
   "cell_type": "code",
   "execution_count": null,
   "metadata": {},
   "outputs": [],
   "source": [
    "# selenium으로 접속 - 3\n",
    "# 인스타그램 로그인\n",
    "email = ''  # 인스타 계정\n",
    "input_id = driver.find_elements_by_css_selector('input._2hvTZ.pexuQ.zyHYP')[0]\n",
    "input_id.clear()\n",
    "input_id.send_keys(email)\n",
    "\n",
    "password = ''  # 인스타 비밀번호\n",
    "input_pw = driver.find_elements_by_css_selector('input._2hvTZ.pexuQ.zyHYP')[1]\n",
    "input_pw.clear()\n",
    "input_pw.send_keys(password)\n",
    "input_pw.submit()"
   ]
  },
  {
   "cell_type": "code",
   "execution_count": 58,
   "metadata": {},
   "outputs": [],
   "source": [
    "# selenium으로 접속 - 4\n",
    "word = '제주도맛집'\n",
    "url = insta_searching(word)\n",
    "driver.get(url)"
   ]
  },
  {
   "cell_type": "markdown",
   "metadata": {},
   "source": [
    "> 게시글 정보 가져오기"
   ]
  },
  {
   "cell_type": "code",
   "execution_count": 63,
   "metadata": {},
   "outputs": [],
   "source": [
    "# 첫 번째 게시글 찾아 클릭\n",
    "import time\n",
    "\n",
    "def select_first(driver):\n",
    "    first = driver.find_element_by_css_selector('div._9AhH0')  # 태그명이 div, class명이 _9AhH0인 요소 찾기\n",
    "    first.click()\n",
    "    time.sleep(3)  # 3초 대기\n",
    "    \n",
    "select_first(driver)"
   ]
  },
  {
   "cell_type": "code",
   "execution_count": 64,
   "metadata": {},
   "outputs": [
    {
     "data": {
      "text/plain": [
       "[\"(광고)지만 찐로컬맛집!!제주도민들의 흑돼지픽🎯'한라축산정육식당'🙏착한가격에 신선함까지☺만족스러운 식사로제주도에서 유명하고정육식당이라 내가👀눈으로 보고 골라서먹는 재미도 쏠쏠~🎼미리 연락시에 룸에서조용하게 먹을 수 있고넓은 실내에 주차공간까지제주시 흑돼지맛집은'한라축산정육식당'🔥⠀🧭한라축산정육식당🛫공항근처점:🗺제주 제주시 1100로 3128⏰매일 10:30~22:30 연중무휴📞064-745-5757⠀🧭애월,한림점🗺제주 제주시 한림읍 한림상로 84⏰매일 10:00 - 22:00📞064-796-3855#제주흑돼지맛집 #제주도흑돼지맛집#제주시맛집 #제주공항근처맛집#제주한림맛집 #제주맛집 #제주도맛집#애월맛집 #제주도애월맛집 #제주애월맛집\",\n",
       " '2020-10-06',\n",
       " 0,\n",
       " '',\n",
       " ['#제주흑돼지맛집',\n",
       "  '#제주도흑돼지맛집',\n",
       "  '#제주시맛집',\n",
       "  '#제주공항근처맛집',\n",
       "  '#제주한림맛집',\n",
       "  '#제주맛집',\n",
       "  '#제주도맛집',\n",
       "  '#애월맛집',\n",
       "  '#제주도애월맛집',\n",
       "  '#제주애월맛집']]"
      ]
     },
     "execution_count": 64,
     "metadata": {},
     "output_type": "execute_result"
    }
   ],
   "source": [
    "# 게시글 정보 가져오기\n",
    "import re\n",
    "from bs4 import BeautifulSoup\n",
    "import unicodedata\n",
    "\n",
    "def get_content(driver):\n",
    "    \n",
    "    # 1. 현재 페이지의 HTML 정보 가져오기\n",
    "    html = driver.page_source  # 현재 화면에 표시된 내용의 html 데이터를 가져올 수 있다.\n",
    "    soup = BeautifulSoup(html, 'lxml')  # 이 정보들을 BS을 통해 필요한 정보들을 추출\n",
    "    \n",
    "    # 2. 본문 내용 가져오기\n",
    "    try:\n",
    "        content = soup.select('div.C4VMK > span')[0].text  \n",
    "        # 태그명이 div, class명이 C4VMK인 태그 아래 span태그 모두 선택, 그 중에 첫 번째 태그 선택, 해당 태그의 텍스트 부분\n",
    "        content = unicodedata.normalize('NFC', content)\n",
    "        # Mac에서 작성된 경우 크롤링 데이터 엑셀파일로 저장시 한글 자음/모음이 분리되는 현상 발생\n",
    "        # 저장하는 과정에서 unicodedata를 이용하여 'NFC' 방식으로(자음/모음 합쳐서 한글 처리하는 방식) 전환\n",
    "    except:\n",
    "        content = ' '  # 본문 내용을 작성하지 않으면 해당 부분을 찾을 수 없어 에러가 발생하기 때문에 빈 값 저장\n",
    "    \n",
    "    # 3. 본문 내용에서 해시태그 가져오기(정규표현식 활용)\n",
    "    tags = re.findall(r'#[^\\s#,\\\\]+', content)\n",
    "    \n",
    "    # 4. 작성일자 정보 가져오기\n",
    "    date = soup.select('time._1o9PC.Nzb55')[0]['datetime'][:10]\n",
    "    # 태그명이 time, class명이 _1o9PC,Nzb55인 태그 모두 선택, 그 중 첫 번째 태그 선택, 해당 태그의 datetime 속성값 중 앞에서부터 10자리\n",
    "    \n",
    "    # 5. 좋아요 수 가져오기\n",
    "    try:\n",
    "        like = soup.select('div.Nm9Fw > button')[0].text[4:-1]\n",
    "        # 태그명이 div, class명이 Nm9Fw인 태그 아래 button 태그 모두 선택, 그 중에 첫 번째 태그 선택, 해당 태그의 텍스트 부분 중 5번째 글자~오른쪽 끝에서 두 번째까지\n",
    "    except:\n",
    "        like = 0\n",
    "    \n",
    "    # 6. 위치 정보 가져오기\n",
    "    try:\n",
    "        place = soup.select('div.M30cS')[0].text\n",
    "        # 태그명이 div, class명이 M30cS인 태그 아래 첫 번째 태그의 텍스트 부분\n",
    "        place = unicodedata.normalize('NFC', place)\n",
    "    except:\n",
    "        place = ' '\n",
    "    \n",
    "    # 7. 수집한 정보 저장하기\n",
    "    data = [content, date, like, place, tags]\n",
    "    return data\n",
    "\n",
    "get_content(driver)"
   ]
  },
  {
   "cell_type": "code",
   "execution_count": 65,
   "metadata": {},
   "outputs": [],
   "source": [
    "# 다음 게시글 열기\n",
    "def move_next(driver):\n",
    "    right = driver.find_element_by_css_selector('a.coreSpriteRightPaginationArrow')\n",
    "    right.click()\n",
    "    time.sleep(3)\n",
    "    \n",
    "move_next(driver)"
   ]
  },
  {
   "cell_type": "markdown",
   "metadata": {},
   "source": [
    "> 여러 게시글 정보 수집하기\n",
    "\n",
    "1. 크롬 브라우저 열기\n",
    "2. 인스타그램 검색페이지 url 만들기: insta_searching()\n",
    "3. 검색페이지 접속하기\n",
    "4. 첫 번째 게시물 클릭하기: select_first()\n",
    "5. 비어있는 변수(results) 만들기\n",
    "6. 게시글 정보 가져오기: get_content()\n",
    "7. 게시글 정보 변수(results)에 추가하기\n",
    "8. 다음 게시글 선택하기: move_next()    \n",
    ":: 6-7-8 반복    \n",
    "9. 게시글 정보 수집 완료(results)"
   ]
  },
  {
   "cell_type": "code",
   "execution_count": 67,
   "metadata": {},
   "outputs": [],
   "source": [
    "# 인스타그램 크롤링\n",
    "from selenium import webdriver\n",
    "from bs4 import BeautifulSoup\n",
    "import time\n",
    "import re\n",
    "\n",
    "# 1. 크롬 브라우저 열기\n",
    "driver = webdriver.Chrome('./chromedriver')\n",
    "\n",
    "driver.get('https://www.instagram.com')\n",
    "time.sleep(2)"
   ]
  },
  {
   "cell_type": "markdown",
   "metadata": {},
   "source": [
    "* 인스타계정을 입력해서 자동 로그인하거나, 웹창에 직접 입력"
   ]
  },
  {
   "cell_type": "code",
   "execution_count": null,
   "metadata": {},
   "outputs": [],
   "source": [
    "# 인스타그램 로그인\n",
    "email = ''  # 인스타 계정\n",
    "input_id = driver.find_elements_by_css_selector('input._2hvTZ.pexuQ.zyHYP')[0]\n",
    "input_id.clear()\n",
    "input_id.send_keys(email)\n",
    "\n",
    "password = ''  # 인스타 비밀번호\n",
    "input_pw = driver.find_elements_by_css_selector('input._2hvTZ.pexuQ.zyHYP')[1]\n",
    "input_pw.clear()\n",
    "input_pw.send_keys(password)\n",
    "input_pw.submit()"
   ]
  },
  {
   "cell_type": "code",
   "execution_count": 74,
   "metadata": {},
   "outputs": [
    {
     "name": "stdout",
     "output_type": "stream",
     "text": [
      "[['핑크뮬리 반 사람 반 🌷💗', '2020-10-06', '1,712', '카페 마노르블랑 제주', []], ['하이엔드만의 특제 마농소스가 듬뿍 들어간 제주마농빵과, 청귤이 듬~ 뿍 들어간 리얼청귤에이드로 선선한 가을 같이 즐겨요😚아침일찍 또는 저녁에 오시면 여유롭고 잔잔한 하이엔드를 느끼실수 있어요 갓구운 베이커리와 직접로스팅한 향긋한 커피로 하루를시작 또는 마무리 하세요✈️(1일1하이엔드, 1일 1마스크)#애월카페 #제주애월카페 #제주도카페 #제주카페 #제주시카페 #서귀포카페 #협재카페 #한림카페 #제주여행 #제주도여행 #제주맛집 #제주도맛집 #애월맛집 #제주도가볼만한곳 #제주기념선물#제주도효도여행 #제주가족여행 #제주로스터리카페 #하이엔드제주 #제주도연중무휴 #제주연중무휴 #애월하미 #그레이트제이 #하갈비국수 #애월당 #하복 #하이월드', '2020-10-07', '153', '하이엔드 제주', ['#애월카페', '#제주애월카페', '#제주도카페', '#제주카페', '#제주시카페', '#서귀포카페', '#협재카페', '#한림카페', '#제주여행', '#제주도여행', '#제주맛집', '#제주도맛집', '#애월맛집', '#제주도가볼만한곳', '#제주기념선물', '#제주도효도여행', '#제주가족여행', '#제주로스터리카페', '#하이엔드제주', '#제주도연중무휴', '#제주연중무휴', '#애월하미', '#그레이트제이', '#하갈비국수', '#애월당', '#하복', '#하이월드']]]\n"
     ]
    }
   ],
   "source": [
    "# 2. 인스타그램 검색페이지 url 만들기: insta_searching()\n",
    "word = '제주도여행'  # 원하는 검색어 입력\n",
    "url = insta_searching(word)\n",
    "\n",
    "# 3. 검색페이지 접속하기\n",
    "driver.get(url)\n",
    "time.sleep(3)\n",
    "\n",
    "# 4. 첫 번째 게시물 클릭하기\n",
    "select_first(driver)\n",
    "\n",
    "# 5. 비어있는 변수(results) 만들기\n",
    "results = [ ]\n",
    "\n",
    "# 6,7,8. 여러 게시물 수집하기\n",
    "target = 500  # 크롤링할 게시글 수 \n",
    "for i in range(target):\n",
    "    try:\n",
    "        data = get_content(driver)  # 게시글 정보 가져오기\n",
    "        results.append(data)\n",
    "        move_next(driver)\n",
    "    except:\n",
    "        time.sleep(2)\n",
    "        move_next(driver)\n",
    "    # 게시글 수집에 오류 발생시(네트워크 문제 등의 이유로) 2초 대기 후 다음 게시글로 넘어가기\n",
    "\n",
    "print(results[:2])"
   ]
  },
  {
   "cell_type": "markdown",
   "metadata": {},
   "source": [
    "> 수집 데이터 저장"
   ]
  },
  {
   "cell_type": "code",
   "execution_count": 75,
   "metadata": {},
   "outputs": [],
   "source": [
    "# 크롤링 결과 저장\n",
    "import pandas as pd\n",
    "\n",
    "results_df = pd.DataFrame(results)\n",
    "results_df.columns = ['content', 'date', 'like', 'place', 'tags']\n",
    "results_df.to_excel('./data/jejudo_yeohaeng.xlsx') \n",
    "# 제주맛집, 제주도맛집, 제주여행, 제주도여행 4가지 검색 후 저장"
   ]
  },
  {
   "cell_type": "markdown",
   "metadata": {},
   "source": [
    "> 여러 엑셀 파일의 중복을 제거한 후 통합 저장"
   ]
  },
  {
   "cell_type": "code",
   "execution_count": 76,
   "metadata": {},
   "outputs": [],
   "source": [
    "# 여러 개의 저장 파일을 통합하기\n",
    "jeju_insta_df = pd.DataFrame([ ])\n",
    "\n",
    "folder = './data/'\n",
    "f_list = ['jejudo_matjip.xlsx', 'jeju_matjip.xlsx', 'jejudo_yeohaeng.xlsx', 'jeju_yeohaeng.xlsx']\n",
    "\n",
    "for fname in f_list:\n",
    "    fpath = folder + fname\n",
    "    temp = pd.read_excel(fpath)\n",
    "    jeju_insta_df = jeju_insta_df.append(temp)\n",
    "    \n",
    "jeju_insta_df.columns = ['', 'content', 'date', 'like', 'place', 'tags']"
   ]
  },
  {
   "cell_type": "code",
   "execution_count": 77,
   "metadata": {},
   "outputs": [],
   "source": [
    "# 중복 데이터를 제거하고 저장하기\n",
    "jeju_insta_df.drop_duplicates(subset = ['content'], inplace=True)\n",
    "jeju_insta_df.to_excel('./data/jeju_crawling_raw.xlsx', index=False)"
   ]
  },
  {
   "cell_type": "code",
   "execution_count": null,
   "metadata": {},
   "outputs": [],
   "source": []
  }
 ],
 "metadata": {
  "kernelspec": {
   "display_name": "Python 3",
   "language": "python",
   "name": "python3"
  },
  "language_info": {
   "codemirror_mode": {
    "name": "ipython",
    "version": 3
   },
   "file_extension": ".py",
   "mimetype": "text/x-python",
   "name": "python",
   "nbconvert_exporter": "python",
   "pygments_lexer": "ipython3",
   "version": "3.7.3"
  }
 },
 "nbformat": 4,
 "nbformat_minor": 4
}
