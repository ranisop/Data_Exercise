{
 "cells": [
  {
   "cell_type": "markdown",
   "metadata": {},
   "source": [
    "### 2.2-1 멜론 인기차트 상위 100곡 크롤링"
   ]
  },
  {
   "cell_type": "code",
   "execution_count": 44,
   "metadata": {},
   "outputs": [],
   "source": [
    "from selenium import webdriver\n",
    "driver = webdriver.Chrome('./chromedriver')"
   ]
  },
  {
   "cell_type": "code",
   "execution_count": 45,
   "metadata": {},
   "outputs": [],
   "source": [
    "url = 'http://www.melon.com/chart/index.htm'\n",
    "driver.get(url)"
   ]
  },
  {
   "cell_type": "code",
   "execution_count": 46,
   "metadata": {},
   "outputs": [],
   "source": [
    "# 현재 웹 페이지의 HTML 정보를 받아온 뒤, 필요한 정보를 추출하기 위해 BeautifulSoup으로 읽기\n",
    "\n",
    "from bs4 import BeautifulSoup\n",
    "html = driver.page_source\n",
    "soup = BeautifulSoup(html, 'html.parser')"
   ]
  },
  {
   "cell_type": "code",
   "execution_count": 47,
   "metadata": {},
   "outputs": [
    {
     "data": {
      "text/plain": [
       "101"
      ]
     },
     "execution_count": 47,
     "metadata": {},
     "output_type": "execute_result"
    }
   ],
   "source": [
    "songs = soup.select('tr')\n",
    "len(songs)"
   ]
  },
  {
   "cell_type": "code",
   "execution_count": 48,
   "metadata": {},
   "outputs": [
    {
     "data": {
      "text/plain": [
       "<tr>\n",
       "<th scope=\"col\">\n",
       "<div class=\"wrap t_right\"><input class=\"input_check d_checkall\" title=\"곡 목록 전체 선택\" type=\"checkbox\"/></div>\n",
       "</th>\n",
       "<th scope=\"col\">\n",
       "<div class=\"wrap none\">앨범이미지</div>\n",
       "</th>\n",
       "<th scope=\"col\">\n",
       "<div class=\"wrap none\">곡 상세가기</div>\n",
       "</th>\n",
       "<th scope=\"col\">\n",
       "<div class=\"wrap pd_l_12\">곡정보</div>\n",
       "</th>\n",
       "<th scope=\"col\">\n",
       "<div class=\"wrap pd_l_12\">앨범</div>\n",
       "</th>\n",
       "<th scope=\"col\">\n",
       "<div class=\"wrap pd_l_30\">좋아요</div>\n",
       "</th>\n",
       "<th scope=\"col\">\n",
       "<div class=\"wrap t_center\">듣기</div>\n",
       "</th>\n",
       "<th scope=\"col\">\n",
       "<div class=\"wrap t_center\">담기</div>\n",
       "</th>\n",
       "<th scope=\"col\">\n",
       "<div class=\"wrap t_center\">다운</div>\n",
       "</th>\n",
       "<th scope=\"col\">\n",
       "<div class=\"wrap t_center\">뮤비</div>\n",
       "</th>\n",
       "</tr>"
      ]
     },
     "execution_count": 48,
     "metadata": {},
     "output_type": "execute_result"
    }
   ],
   "source": [
    "songs[0]"
   ]
  },
  {
   "cell_type": "code",
   "execution_count": 49,
   "metadata": {},
   "outputs": [
    {
     "data": {
      "text/plain": [
       "100"
      ]
     },
     "execution_count": 49,
     "metadata": {},
     "output_type": "execute_result"
    }
   ],
   "source": [
    "songs = soup.select('tr')[1:]\n",
    "len(songs)"
   ]
  },
  {
   "cell_type": "code",
   "execution_count": 50,
   "metadata": {},
   "outputs": [
    {
     "data": {
      "text/plain": [
       "<tr data-song-no=\"32790516\">\n",
       "<td><div class=\"wrap t_right\"><input class=\"input_check\" name=\"input_check\" title=\"다시 여기 바닷가 곡 선택\" type=\"checkbox\" value=\"32790516\"/></div></td>\n",
       "<td><div class=\"wrap\">\n",
       "<a class=\"image_typeAll\" href=\"javascript:melon.link.goAlbumDetail('10462799');\" title=\"다시 여기 바닷가\">\n",
       "<img alt=\"다시 여기 바닷가 - 페이지 이동\" height=\"60\" onerror=\"WEBPOCIMG.defaultAlbumImg(this);\" src=\"https://cdnimg.melon.co.kr/cm2/album/images/104/62/799/10462799_20200717150822_500.jpg/melon/resize/120/quality/80/optimize\" width=\"60\"/>\n",
       "<span class=\"bg_album_frame\"></span>\n",
       "</a>\n",
       "</div></td>\n",
       "<td><div class=\"wrap\">\n",
       "<a class=\"btn button_icons type03 song_info\" href=\"javascript:melon.link.goSongDetail('32790516');\" title=\"다시 여기 바닷가 곡정보\"><span class=\"none\">곡정보</span></a>\n",
       "</div></td>\n",
       "<td><div class=\"wrap\">\n",
       "<div class=\"wrap_song_info\">\n",
       "<div class=\"ellipsis rank01\"><span>\n",
       "<a href=\"javascript:melon.play.playSong('19030101',32790516);\" title=\"다시 여기 바닷가 재생\">다시 여기 바닷가</a>\n",
       "</span></div>\n",
       "<br/>\n",
       "<div class=\"ellipsis rank02\">\n",
       "<a href=\"javascript:melon.link.goArtistDetail('2879819');\" title=\"싹쓰리 (유두래곤, 린다G, 비룡) - 페이지 이동\">싹쓰리 (유두래곤, 린다G, 비룡)</a><span class=\"checkEllipsis\" style=\"display: none;\"><a href=\"javascript:melon.link.goArtistDetail('2879819');\" title=\"싹쓰리 (유두래곤, 린다G, 비룡) - 페이지 이동\">싹쓰리 (유두래곤, 린다G, 비룡)</a></span>\n",
       "</div>\n",
       "</div>\n",
       "</div></td>\n",
       "<td><div class=\"wrap\">\n",
       "<div class=\"wrap_song_info\">\n",
       "<div class=\"ellipsis rank03\">\n",
       "<a href=\"javascript:melon.link.goAlbumDetail('10462799');\" title=\"다시 여기 바닷가 - 페이지 이동\">다시 여기 바닷가</a>\n",
       "</div>\n",
       "</div>\n",
       "</div></td>\n",
       "<td><div class=\"wrap\">\n",
       "<button class=\"button_etc like\" data-song-menuid=\"19030101\" data-song-no=\"32790516\" title=\"다시 여기 바닷가 좋아요\" type=\"button\"><span class=\"odd_span\">좋아요</span>\n",
       "<span class=\"cnt\">\n",
       "<span class=\"none\">총건수</span>\n",
       "183,944</span></button>\n",
       "</div></td>\n",
       "<td><div class=\"wrap t_center\">\n",
       "<button class=\"button_icons play\" onclick=\"melon.play.playSong('19030101',32790516);\" title=\"듣기\" type=\"button\"><span class=\"none\">듣기</span></button>\n",
       "</div></td>\n",
       "<td><div class=\"wrap t_center\">\n",
       "<button class=\"button_icons scrap\" onclick=\"melon.play.addPlayList('32790516');\" title=\"담기\" type=\"button\"><span class=\"none\">담기</span></button>\n",
       "</div></td>\n",
       "<td><div class=\"wrap t_center\">\n",
       "<button class=\"button_icons download\" onclick=\"melon.buy.goBuyProduct('frm', '32790516', '3C0001', '','0', '19030101');\" title=\"다운로드\" type=\"button\"><span class=\"none\">다운로드</span></button>\n",
       "</div></td>\n",
       "<td><div class=\"wrap t_center\">\n",
       "<button class=\"button_icons video\" onclick=\"melon.link.goMvDetail('19030101', '32790516','song');\" title=\"뮤직비디오\" type=\"button\"><span class=\"none\">뮤직비디오</span></button>\n",
       "</div></td>\n",
       "</tr>"
      ]
     },
     "execution_count": 50,
     "metadata": {},
     "output_type": "execute_result"
    }
   ],
   "source": [
    "songs[0]"
   ]
  },
  {
   "cell_type": "code",
   "execution_count": 51,
   "metadata": {},
   "outputs": [
    {
     "name": "stdout",
     "output_type": "stream",
     "text": [
      "6\n"
     ]
    },
    {
     "data": {
      "text/plain": [
       "[<a class=\"image_typeAll\" href=\"javascript:melon.link.goAlbumDetail('10462799');\" title=\"다시 여기 바닷가\">\n",
       " <img alt=\"다시 여기 바닷가 - 페이지 이동\" height=\"60\" onerror=\"WEBPOCIMG.defaultAlbumImg(this);\" src=\"https://cdnimg.melon.co.kr/cm2/album/images/104/62/799/10462799_20200717150822_500.jpg/melon/resize/120/quality/80/optimize\" width=\"60\"/>\n",
       " <span class=\"bg_album_frame\"></span>\n",
       " </a>,\n",
       " <a class=\"btn button_icons type03 song_info\" href=\"javascript:melon.link.goSongDetail('32790516');\" title=\"다시 여기 바닷가 곡정보\"><span class=\"none\">곡정보</span></a>,\n",
       " <a href=\"javascript:melon.play.playSong('19030101',32790516);\" title=\"다시 여기 바닷가 재생\">다시 여기 바닷가</a>,\n",
       " <a href=\"javascript:melon.link.goArtistDetail('2879819');\" title=\"싹쓰리 (유두래곤, 린다G, 비룡) - 페이지 이동\">싹쓰리 (유두래곤, 린다G, 비룡)</a>,\n",
       " <a href=\"javascript:melon.link.goArtistDetail('2879819');\" title=\"싹쓰리 (유두래곤, 린다G, 비룡) - 페이지 이동\">싹쓰리 (유두래곤, 린다G, 비룡)</a>,\n",
       " <a href=\"javascript:melon.link.goAlbumDetail('10462799');\" title=\"다시 여기 바닷가 - 페이지 이동\">다시 여기 바닷가</a>]"
      ]
     },
     "execution_count": 51,
     "metadata": {},
     "output_type": "execute_result"
    }
   ],
   "source": [
    "song = songs[0]\n",
    "title = song.select('a')\n",
    "print(len(title))\n",
    "title"
   ]
  },
  {
   "cell_type": "code",
   "execution_count": 52,
   "metadata": {},
   "outputs": [
    {
     "name": "stdout",
     "output_type": "stream",
     "text": [
      "2\n"
     ]
    },
    {
     "data": {
      "text/plain": [
       "[<a href=\"javascript:melon.play.playSong('19030101',32790516);\" title=\"다시 여기 바닷가 재생\">다시 여기 바닷가</a>,\n",
       " <a href=\"javascript:melon.link.goArtistDetail('2879819');\" title=\"싹쓰리 (유두래곤, 린다G, 비룡) - 페이지 이동\">싹쓰리 (유두래곤, 린다G, 비룡)</a>]"
      ]
     },
     "execution_count": 52,
     "metadata": {},
     "output_type": "execute_result"
    }
   ],
   "source": [
    "title = song.select('span > a')\n",
    "print(len(title))\n",
    "title"
   ]
  },
  {
   "cell_type": "code",
   "execution_count": 53,
   "metadata": {},
   "outputs": [
    {
     "name": "stdout",
     "output_type": "stream",
     "text": [
      "1\n"
     ]
    },
    {
     "data": {
      "text/plain": [
       "[<a href=\"javascript:melon.play.playSong('19030101',32790516);\" title=\"다시 여기 바닷가 재생\">다시 여기 바닷가</a>]"
      ]
     },
     "execution_count": 53,
     "metadata": {},
     "output_type": "execute_result"
    }
   ],
   "source": [
    "title = song.select('div.ellipsis.rank01 > span > a')  # 띄어쓰기한거는 . 찍어주기\n",
    "print(len(title))\n",
    "title"
   ]
  },
  {
   "cell_type": "code",
   "execution_count": 54,
   "metadata": {},
   "outputs": [
    {
     "data": {
      "text/plain": [
       "'다시 여기 바닷가'"
      ]
     },
     "execution_count": 54,
     "metadata": {},
     "output_type": "execute_result"
    }
   ],
   "source": [
    "title = song.select('div.ellipsis.rank01 > span > a')[0].text\n",
    "title"
   ]
  },
  {
   "cell_type": "code",
   "execution_count": 55,
   "metadata": {},
   "outputs": [
    {
     "data": {
      "text/plain": [
       "'싹쓰리 (유두래곤, 린다G, 비룡)'"
      ]
     },
     "execution_count": 55,
     "metadata": {},
     "output_type": "execute_result"
    }
   ],
   "source": [
    "singer = song.select('div.ellipsis.rank02 > a')[0].text\n",
    "singer"
   ]
  },
  {
   "cell_type": "code",
   "execution_count": 56,
   "metadata": {},
   "outputs": [
    {
     "name": "stdout",
     "output_type": "stream",
     "text": [
      "다시 여기 바닷가 | 싹쓰리 (유두래곤, 린다G, 비룡)\n",
      "마리아 (Maria) | 화사 (Hwa Sa)\n",
      "How You Like That | BLACKPINK\n",
      "그 여름을 틀어줘 | 싹쓰리 (유두래곤, 린다G, 비룡)\n",
      "Summer Hate (Feat. 비) | 지코 (ZICO)\n",
      "Downtown Baby | 블루 (BLOO)\n",
      "여름 안에서 by 싹쓰리 (Feat. 황광희) | 싹쓰리 (유두래곤, 린다G, 비룡)\n",
      "에잇(Prod.&Feat. SUGA of BTS) | 아이유\n",
      "홀로 | 이하이\n",
      "아로하 | 조정석\n",
      "LINDA (Feat. 윤미래) | 린다G\n",
      "Dolphin | 오마이걸\n",
      "눈누난나 (NUNU NANA) | 제시 (Jessi)\n",
      "신난다 (Feat. 마마무) | 비룡\n",
      "보라빛 밤 (pporappippam) | 선미\n",
      "살짝 설렜어 (Nonstop) | 오마이걸\n",
      "Dance Monkey | Tones And I\n",
      "어떻게 지내 (Prod. By VAN.C) | 오반\n",
      "사랑하게 될 줄 알았어 | 전미도\n",
      "Memories | Maroon 5\n",
      "METEOR | 창모 (CHANGMO)\n",
      "Into the I-LAND | 아이유\n",
      "Blueming | 아이유\n",
      "Don't Start Now | Dua Lipa\n",
      "흔들리는 꽃들 속에서 네 샴푸향이 느껴진거야 | 장범준\n",
      "아무노래 | 지코 (ZICO)\n",
      "처음처럼 | 엠씨더맥스 (M.C the MAX)\n",
      "취기를 빌려 (취향저격 그녀 X 산들) | 산들\n",
      "시작 | 가호 (Gaho)\n",
      "MORE & MORE | TWICE (트와이스)\n",
      "어떻게 이별까지 사랑하겠어, 널 사랑하는 거지 | AKMU (악동뮤지션)\n",
      "PLAY (Feat. 창모) | 청하\n",
      "늦은 밤 너의 집 앞 골목길에서 | 노을\n",
      "2002 | Anne-Marie\n",
      "좋은 사람 있으면 소개시켜줘 | 조이 (JOY)\n",
      "사랑은 지날수록 더욱 선명하게 남아 | 전상근\n",
      "나비와 고양이 (feat.백현 (BAEKHYUN)) | 볼빨간사춘기\n",
      "덤디덤디 (DUMDi DUMDi) | (여자)아이들\n",
      "Monster | 레드벨벳-아이린&슬기\n",
      "오늘도 빛나는 너에게 (To You My Light) (Feat.이라온) | 마크툽 (MAKTUB)\n",
      "마음을 드려요 | 아이유\n",
      "작은 것들을 위한 시 (Boy With Luv) (Feat. Halsey) | 방탄소년단\n",
      "거짓말이라도 해서 널 보고싶어 | 백지영\n",
      "모든 날, 모든 순간 (Every day, Every Moment) | 폴킴\n",
      "우리 왜 헤어져야 해 | 신예영\n",
      "Psycho | Red Velvet (레드벨벳)\n",
      "ON | 방탄소년단\n",
      "Maniac | Conan Gray\n",
      "아틀란티스 소녀 (Atlantis Princess) | 볼빨간사춘기\n",
      "이제 나만 믿어요 | 임영웅\n",
      "Paris In The Rain | Lauv\n",
      "안녕 | 폴킴\n",
      "그때 그 아인 | 김필\n",
      "어떻게 지내 (답가) | 런치\n",
      "두리쥬와 (Feat. S.B.N) | 유두래곤\n",
      "화려하지 않은 고백 | 규현 (KYUHYUN)\n",
      "비 | 폴킴\n",
      "취했나봐 | 황인욱\n",
      "덤더럼 (Dumhdurum) | Apink (에이핑크)\n",
      "깡 Official Remix | 식케이 (Sik-K)\n",
      "첫 줄 | 신용재\n",
      "너에게 난, 나에게 넌 | 미도와 파라솔\n",
      "환상동화 (Secret Story of the Swan) | IZ*ONE (아이즈원)\n",
      "반만 | 진민호\n",
      "돌덩이 | 하현우 (국카스텐)\n",
      "Love poem | 아이유\n",
      "FIESTA | IZ*ONE (아이즈원)\n",
      "What You Waiting For | 전소미\n",
      "봄날 | 방탄소년단\n",
      "Painkiller | Ruel\n",
      "Stuck with U | Ariana Grande\n",
      "내 눈물 모아 | 휘인 (Whee In)\n",
      "너를 사랑하고 있어 | 백현 (BAEKHYUN)\n",
      "아직 너의 시간에 살아 | 이수현\n",
      "그대 고운 내사랑 | 어반자카파\n",
      "Candy | 백현 (BAEKHYUN)\n",
      "오늘따라 비가 와서 그런가 봐 | 솔지\n",
      "Left & Right | 세븐틴\n",
      "WANNABE | ITZY (있지)\n",
      "찐이야 | 영탁\n",
      "bad guy | Billie Eilish\n",
      "HIP | 마마무 (Mamamoo)\n",
      "To Die For | Sam Smith\n",
      "00:00 (Zero O’Clock) | 방탄소년단\n",
      "어느 60대 노부부이야기 | 임영웅\n",
      "너를 만나 | 폴킴\n",
      "Black Swan | 방탄소년단\n",
      "Error (Feat. Loopy) | ASH ISLAND\n",
      "니가 왜 거기서 나와 (Narr. 고은아) | 영탁\n",
      "12:45 (Stripped) | Etham\n",
      "시든 꽃에 물을 주듯 | HYNN (박혜원)\n",
      "친구 | 방탄소년단\n",
      "사랑이란 멜로는 없어 | 전상근\n",
      "조금 취했어 (Prod. 2soo) | 임재현\n",
      "포장마차 | 황인욱\n",
      "바램 | 임영웅\n",
      "오래된 노래 | 스탠딩 에그\n",
      "다시 여기 바닷가 (Acoustic Ver.) | 이상순\n",
      "Moon | 방탄소년단\n",
      "Filter | 방탄소년단\n"
     ]
    }
   ],
   "source": [
    "for song in songs:\n",
    "    title = song.select('div.ellipsis.rank01 > span > a')[0].text\n",
    "    singer = song.select('div.ellipsis.rank02 > a')[0].text\n",
    "    print(title, singer, sep=' | ')"
   ]
  },
  {
   "cell_type": "markdown",
   "metadata": {},
   "source": [
    "### 정리"
   ]
  },
  {
   "cell_type": "code",
   "execution_count": 57,
   "metadata": {},
   "outputs": [
    {
     "name": "stdout",
     "output_type": "stream",
     "text": [
      "다시 여기 바닷가 | 싹쓰리 (유두래곤, 린다G, 비룡)\n",
      "마리아 (Maria) | 화사 (Hwa Sa)\n",
      "How You Like That | BLACKPINK\n",
      "그 여름을 틀어줘 | 싹쓰리 (유두래곤, 린다G, 비룡)\n",
      "Summer Hate (Feat. 비) | 지코 (ZICO)\n",
      "Downtown Baby | 블루 (BLOO)\n",
      "여름 안에서 by 싹쓰리 (Feat. 황광희) | 싹쓰리 (유두래곤, 린다G, 비룡)\n",
      "에잇(Prod.&Feat. SUGA of BTS) | 아이유\n",
      "홀로 | 이하이\n",
      "아로하 | 조정석\n",
      "LINDA (Feat. 윤미래) | 린다G\n",
      "Dolphin | 오마이걸\n",
      "눈누난나 (NUNU NANA) | 제시 (Jessi)\n",
      "신난다 (Feat. 마마무) | 비룡\n",
      "보라빛 밤 (pporappippam) | 선미\n",
      "살짝 설렜어 (Nonstop) | 오마이걸\n",
      "Dance Monkey | Tones And I\n",
      "어떻게 지내 (Prod. By VAN.C) | 오반\n",
      "사랑하게 될 줄 알았어 | 전미도\n",
      "Memories | Maroon 5\n",
      "METEOR | 창모 (CHANGMO)\n",
      "Into the I-LAND | 아이유\n",
      "Blueming | 아이유\n",
      "Don't Start Now | Dua Lipa\n",
      "흔들리는 꽃들 속에서 네 샴푸향이 느껴진거야 | 장범준\n",
      "아무노래 | 지코 (ZICO)\n",
      "처음처럼 | 엠씨더맥스 (M.C the MAX)\n",
      "취기를 빌려 (취향저격 그녀 X 산들) | 산들\n",
      "시작 | 가호 (Gaho)\n",
      "MORE & MORE | TWICE (트와이스)\n",
      "어떻게 이별까지 사랑하겠어, 널 사랑하는 거지 | AKMU (악동뮤지션)\n",
      "PLAY (Feat. 창모) | 청하\n",
      "늦은 밤 너의 집 앞 골목길에서 | 노을\n",
      "2002 | Anne-Marie\n",
      "좋은 사람 있으면 소개시켜줘 | 조이 (JOY)\n",
      "사랑은 지날수록 더욱 선명하게 남아 | 전상근\n",
      "나비와 고양이 (feat.백현 (BAEKHYUN)) | 볼빨간사춘기\n",
      "덤디덤디 (DUMDi DUMDi) | (여자)아이들\n",
      "Monster | 레드벨벳-아이린&슬기\n",
      "오늘도 빛나는 너에게 (To You My Light) (Feat.이라온) | 마크툽 (MAKTUB)\n",
      "마음을 드려요 | 아이유\n",
      "작은 것들을 위한 시 (Boy With Luv) (Feat. Halsey) | 방탄소년단\n",
      "거짓말이라도 해서 널 보고싶어 | 백지영\n",
      "모든 날, 모든 순간 (Every day, Every Moment) | 폴킴\n",
      "우리 왜 헤어져야 해 | 신예영\n",
      "Psycho | Red Velvet (레드벨벳)\n",
      "ON | 방탄소년단\n",
      "Maniac | Conan Gray\n",
      "아틀란티스 소녀 (Atlantis Princess) | 볼빨간사춘기\n",
      "이제 나만 믿어요 | 임영웅\n",
      "Paris In The Rain | Lauv\n",
      "안녕 | 폴킴\n",
      "그때 그 아인 | 김필\n",
      "어떻게 지내 (답가) | 런치\n",
      "두리쥬와 (Feat. S.B.N) | 유두래곤\n",
      "화려하지 않은 고백 | 규현 (KYUHYUN)\n",
      "비 | 폴킴\n",
      "취했나봐 | 황인욱\n",
      "덤더럼 (Dumhdurum) | Apink (에이핑크)\n",
      "깡 Official Remix | 식케이 (Sik-K)\n",
      "첫 줄 | 신용재\n",
      "너에게 난, 나에게 넌 | 미도와 파라솔\n",
      "환상동화 (Secret Story of the Swan) | IZ*ONE (아이즈원)\n",
      "반만 | 진민호\n",
      "돌덩이 | 하현우 (국카스텐)\n",
      "Love poem | 아이유\n",
      "FIESTA | IZ*ONE (아이즈원)\n",
      "What You Waiting For | 전소미\n",
      "봄날 | 방탄소년단\n",
      "Painkiller | Ruel\n",
      "Stuck with U | Ariana Grande\n",
      "내 눈물 모아 | 휘인 (Whee In)\n",
      "너를 사랑하고 있어 | 백현 (BAEKHYUN)\n",
      "아직 너의 시간에 살아 | 이수현\n",
      "그대 고운 내사랑 | 어반자카파\n",
      "Candy | 백현 (BAEKHYUN)\n",
      "오늘따라 비가 와서 그런가 봐 | 솔지\n",
      "Left & Right | 세븐틴\n",
      "WANNABE | ITZY (있지)\n",
      "찐이야 | 영탁\n",
      "bad guy | Billie Eilish\n",
      "HIP | 마마무 (Mamamoo)\n",
      "To Die For | Sam Smith\n",
      "00:00 (Zero O’Clock) | 방탄소년단\n",
      "어느 60대 노부부이야기 | 임영웅\n",
      "너를 만나 | 폴킴\n",
      "Black Swan | 방탄소년단\n",
      "Error (Feat. Loopy) | ASH ISLAND\n",
      "니가 왜 거기서 나와 (Narr. 고은아) | 영탁\n",
      "12:45 (Stripped) | Etham\n",
      "시든 꽃에 물을 주듯 | HYNN (박혜원)\n",
      "친구 | 방탄소년단\n",
      "사랑이란 멜로는 없어 | 전상근\n",
      "조금 취했어 (Prod. 2soo) | 임재현\n",
      "포장마차 | 황인욱\n",
      "바램 | 임영웅\n",
      "오래된 노래 | 스탠딩 에그\n",
      "다시 여기 바닷가 (Acoustic Ver.) | 이상순\n",
      "Moon | 방탄소년단\n",
      "Filter | 방탄소년단\n"
     ]
    }
   ],
   "source": [
    "from selenium import webdriver\n",
    "from bs4 import BeautifulSoup\n",
    "\n",
    "driver = webdriver.Chrome('./chromedriver')\n",
    "url = 'http://www.melon.com/chart/index.htm'\n",
    "driver.get(url)\n",
    "\n",
    "html = driver.page_source\n",
    "soup = BeautifulSoup(html, 'html.parser')\n",
    "\n",
    "songs = soup.select('tr')[1:]\n",
    "\n",
    "for song in songs:\n",
    "    title = song.select('div.ellipsis.rank01 > span > a')[0].text\n",
    "    singer = song.select('div.ellipsis.rank02 > a')[0].text\n",
    "    print(title, singer, sep=' | ')"
   ]
  },
  {
   "cell_type": "markdown",
   "metadata": {},
   "source": [
    "### 정리(selenium만 이용)"
   ]
  },
  {
   "cell_type": "code",
   "execution_count": 58,
   "metadata": {},
   "outputs": [
    {
     "name": "stdout",
     "output_type": "stream",
     "text": [
      "다시 여기 바닷가 | 싹쓰리 (유두래곤, 린다G, 비룡)\n",
      "마리아 (Maria) | 화사 (Hwa Sa)\n",
      "How You Like That | BLACKPINK\n",
      "그 여름을 틀어줘 | 싹쓰리 (유두래곤, 린다G, 비룡)\n",
      "Summer Hate (Feat. 비) | 지코 (ZICO)\n",
      "Downtown Baby | 블루 (BLOO)\n",
      "여름 안에서 by 싹쓰리 (Feat. 황광희) | 싹쓰리 (유두래곤, 린다G, 비룡)\n",
      "에잇(Prod.&Feat. SUGA of BTS) | 아이유\n",
      "홀로 | 이하이\n",
      "아로하 | 조정석\n",
      "LINDA (Feat. 윤미래) | 린다G\n",
      "Dolphin | 오마이걸\n",
      "눈누난나 (NUNU NANA) | 제시 (Jessi)\n",
      "신난다 (Feat. 마마무) | 비룡\n",
      "보라빛 밤 (pporappippam) | 선미\n",
      "살짝 설렜어 (Nonstop) | 오마이걸\n",
      "Dance Monkey | Tones And I\n",
      "어떻게 지내 (Prod. By VAN.C) | 오반\n",
      "사랑하게 될 줄 알았어 | 전미도\n",
      "Memories | Maroon 5\n",
      "METEOR | 창모 (CHANGMO)\n",
      "Into the I-LAND | 아이유\n",
      "Blueming | 아이유\n",
      "Don't Start Now | Dua Lipa\n",
      "흔들리는 꽃들 속에서 네 샴푸향이 느껴진거야 | 장범준\n",
      "아무노래 | 지코 (ZICO)\n",
      "처음처럼 | 엠씨더맥스 (M.C the MAX)\n",
      "취기를 빌려 (취향저격 그녀 X 산들) | 산들\n",
      "시작 | 가호 (Gaho)\n",
      "MORE & MORE | TWICE (트와이스)\n",
      "어떻게 이별까지 사랑하겠어, 널 사랑하는 거지 | AKMU (악동뮤지션)\n",
      "PLAY (Feat. 창모) | 청하\n",
      "늦은 밤 너의 집 앞 골목길에서 | 노을\n",
      "2002 | Anne-Marie\n",
      "좋은 사람 있으면 소개시켜줘 | 조이 (JOY)\n",
      "사랑은 지날수록 더욱 선명하게 남아 | 전상근\n",
      "나비와 고양이 (feat.백현 (BAEKHYUN)) | 볼빨간사춘기\n",
      "덤디덤디 (DUMDi DUMDi) | (여자)아이들\n",
      "Monster | 레드벨벳-아이린&슬기\n",
      "오늘도 빛나는 너에게 (To You My Light) (Feat.이라온) | 마크툽 (MAKTUB)\n",
      "마음을 드려요 | 아이유\n",
      "작은 것들을 위한 시 (Boy With Luv) (Feat. Halsey) | 방탄소년단\n",
      "거짓말이라도 해서 널 보고싶어 | 백지영\n",
      "모든 날, 모든 순간 (Every day, Every Moment) | 폴킴\n",
      "우리 왜 헤어져야 해 | 신예영\n",
      "Psycho | Red Velvet (레드벨벳)\n",
      "ON | 방탄소년단\n",
      "Maniac | Conan Gray\n",
      "아틀란티스 소녀 (Atlantis Princess) | 볼빨간사춘기\n",
      "이제 나만 믿어요 | 임영웅\n",
      "Paris In The Rain | Lauv\n",
      "안녕 | 폴킴\n",
      "그때 그 아인 | 김필\n",
      "어떻게 지내 (답가) | 런치\n",
      "두리쥬와 (Feat. S.B.N) | 유두래곤\n",
      "화려하지 않은 고백 | 규현 (KYUHYUN)\n",
      "비 | 폴킴\n",
      "취했나봐 | 황인욱\n",
      "덤더럼 (Dumhdurum) | Apink (에이핑크)\n",
      "깡 Official Remix | 식케이 (Sik-K)\n",
      "첫 줄 | 신용재\n",
      "너에게 난, 나에게 넌 | 미도와 파라솔\n",
      "환상동화 (Secret Story of the Swan) | IZ*ONE (아이즈원)\n",
      "반만 | 진민호\n",
      "돌덩이 | 하현우 (국카스텐)\n",
      "Love poem | 아이유\n",
      "FIESTA | IZ*ONE (아이즈원)\n",
      "What You Waiting For | 전소미\n",
      "봄날 | 방탄소년단\n",
      "Painkiller | Ruel\n",
      "Stuck with U | Ariana Grande\n",
      "내 눈물 모아 | 휘인 (Whee In)\n",
      "너를 사랑하고 있어 | 백현 (BAEKHYUN)\n",
      "아직 너의 시간에 살아 | 이수현\n",
      "그대 고운 내사랑 | 어반자카파\n",
      "Candy | 백현 (BAEKHYUN)\n",
      "오늘따라 비가 와서 그런가 봐 | 솔지\n",
      "Left & Right | 세븐틴\n",
      "WANNABE | ITZY (있지)\n",
      "찐이야 | 영탁\n",
      "bad guy | Billie Eilish\n",
      "HIP | 마마무 (Mamamoo)\n",
      "To Die For | Sam Smith\n",
      "00:00 (Zero O’Clock) | 방탄소년단\n",
      "어느 60대 노부부이야기 | 임영웅\n",
      "너를 만나 | 폴킴\n",
      "Black Swan | 방탄소년단\n",
      "Error (Feat. Loopy) | ASH ISLAND\n",
      "니가 왜 거기서 나와 (Narr. 고은아) | 영탁\n",
      "12:45 (Stripped) | Etham\n",
      "시든 꽃에 물을 주듯 | HYNN (박혜원)\n",
      "친구 | 방탄소년단\n",
      "사랑이란 멜로는 없어 | 전상근\n",
      "조금 취했어 (Prod. 2soo) | 임재현\n",
      "포장마차 | 황인욱\n",
      "바램 | 임영웅\n",
      "오래된 노래 | 스탠딩 에그\n",
      "다시 여기 바닷가 (Acoustic Ver.) | 이상순\n",
      "Moon | 방탄소년단\n",
      "Filter | 방탄소년단\n"
     ]
    }
   ],
   "source": [
    "from selenium import webdriver\n",
    "# from bs4 import BeautifulSoup\n",
    "\n",
    "driver = webdriver.Chrome('./chromedriver')\n",
    "url = 'http://www.melon.com/chart/index.htm'\n",
    "driver.get(url)\n",
    "\n",
    "# html = driver.page_source\n",
    "# soup = BeautifulSoup(html, 'html.parser')\n",
    "\n",
    "# songs = soup.select('tr')[1:]\n",
    "songs = driver.find_elements_by_css_selector('tr')[1:]\n",
    "\n",
    "for song in songs:\n",
    "    title = song.find_elements_by_css_selector('div.ellipsis.rank01 > span > a')[0].text\n",
    "    singer = song.find_elements_by_css_selector('div.ellipsis.rank02 > a')[0].text\n",
    "    print(title, singer, sep=' | ')"
   ]
  },
  {
   "cell_type": "code",
   "execution_count": null,
   "metadata": {},
   "outputs": [],
   "source": []
  }
 ],
 "metadata": {
  "kernelspec": {
   "display_name": "Python 3",
   "language": "python",
   "name": "python3"
  },
  "language_info": {
   "codemirror_mode": {
    "name": "ipython",
    "version": 3
   },
   "file_extension": ".py",
   "mimetype": "text/x-python",
   "name": "python",
   "nbconvert_exporter": "python",
   "pygments_lexer": "ipython3",
   "version": "3.7.3"
  }
 },
 "nbformat": 4,
 "nbformat_minor": 4
}
